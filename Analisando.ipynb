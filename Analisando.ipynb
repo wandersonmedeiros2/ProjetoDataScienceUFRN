{
 "cells": [
  {
   "cell_type": "code",
   "execution_count": 48,
   "metadata": {},
   "outputs": [
    {
     "data": {
      "text/plain": [
       "id_atividade                                 0\n",
       "tipo_atividade                               0\n",
       "titulo                                       0\n",
       "ano_projeto                                  0\n",
       "data_inicio                                  0\n",
       "data_fim                                     0\n",
       "localizacao                               2641\n",
       "municipio                                  397\n",
       "bairro                                   17335\n",
       "id_unidade                                   0\n",
       "unidade                                      0\n",
       "coordenador                                  0\n",
       "area_tematica                                0\n",
       "area_conhecimento_cnpq                       1\n",
       "situacao                                     0\n",
       "tipo_projeto                                 0\n",
       "forma_projeto                                0\n",
       "numero_edital                            19750\n",
       "edital                                   19750\n",
       "bolsas_edital                            19750\n",
       "bolsas_solicitadas                           0\n",
       "bolsas_concedidas                            0\n",
       "publico_interno                              1\n",
       "publico_alvo_interno                      1347\n",
       "publico_externo                           2053\n",
       "publico_alvo_externo                      7724\n",
       "quantidade_discentes                         1\n",
       "objetivos_desenvolvimento_sustentavel    26791\n",
       "dtype: int64"
      ]
     },
     "execution_count": 48,
     "metadata": {},
     "output_type": "execute_result"
    }
   ],
   "source": [
    "#import pandas as pd #importa a biblioteca panda com o novo nome 'pd'\n",
    "#dadosX = pd.read_csv(\"Dados_origin/atividades-extensao.csv\", sep=\";\") #Carrega o dataset para a variável dadosX\n",
    "#dadosX[dadosX.ano_projeto >= 2009] #Filtrei os dados maiores ou iguais à 2009\n",
    "#dadosX.head(10000) #Mostra todas as colunas e 5 linhas\n",
    "#dadosX.isnull().sum() #Mostra a soma dos itens que tem dados nulos\n",
    "#dadosX.sort_values(by=['tipo_atividade']) #Organiza de acordo com uma ou mais colunas especificadas entre colchetes\n",
    "#len(dadosX) #Mostra quantidade de linhas\n",
    "#dadosX['bairro']"
   ]
  },
  {
   "cell_type": "code",
   "execution_count": 203,
   "metadata": {},
   "outputs": [
    {
     "data": {
      "text/html": [
       "<div>\n",
       "<style scoped>\n",
       "    .dataframe tbody tr th:only-of-type {\n",
       "        vertical-align: middle;\n",
       "    }\n",
       "\n",
       "    .dataframe tbody tr th {\n",
       "        vertical-align: top;\n",
       "    }\n",
       "\n",
       "    .dataframe thead th {\n",
       "        text-align: right;\n",
       "    }\n",
       "</style>\n",
       "<table border=\"1\" class=\"dataframe\">\n",
       "  <thead>\n",
       "    <tr style=\"text-align: right;\">\n",
       "      <th></th>\n",
       "      <th>quantidade_discentes</th>\n",
       "      <th>publico_interno</th>\n",
       "      <th>area_conhecimento_cnpq</th>\n",
       "    </tr>\n",
       "  </thead>\n",
       "  <tbody>\n",
       "    <tr>\n",
       "      <th>29307</th>\n",
       "      <td>NaN</td>\n",
       "      <td>NaN</td>\n",
       "      <td>NaN</td>\n",
       "    </tr>\n",
       "  </tbody>\n",
       "</table>\n",
       "</div>"
      ],
      "text/plain": [
       "       quantidade_discentes  publico_interno area_conhecimento_cnpq\n",
       "29307                   NaN              NaN                    NaN"
      ]
     },
     "execution_count": 203,
     "metadata": {},
     "output_type": "execute_result"
    }
   ],
   "source": [
    "#dadosX['localizacao'].isnull().head()\n",
    "#dadosX.sort_values(by='municipio', ascending=False, na_position='first') #Ordena primeiro os NaN\n",
    "#dadosX[dadosX['localizacao'].isnull()].query('tipo_projeto == \"EXTENSÃO\" and tipo_atividade == \"PROJETO\" and forma_projeto == \"INTERNO\"')[['titulo','unidade','area_tematica','ano_projeto']]#.isnull().sum()#['tipo_atividade'].unique()\n",
    "#dadosX.query('tipo_projeto == \"EXTENSÃO\" and tipo_atividade == \"PROJETO\" and forma_projeto == \"INTERNO\"')\n",
    "#dadosX[dadosX['tipo_projeto'] == 'EXTENSÃO']\n",
    "dadosX[dadosX['publico_interno'].isnull()][['quantidade_discentes','publico_interno','area_conhecimento_cnpq']] "
   ]
  },
  {
   "cell_type": "code",
   "execution_count": 182,
   "metadata": {},
   "outputs": [
    {
     "name": "stdout",
     "output_type": "stream",
     "text": [
      "<class 'pandas.core.frame.DataFrame'>\n",
      "RangeIndex: 29338 entries, 0 to 29337\n",
      "Data columns (total 28 columns):\n",
      " #   Column                                 Non-Null Count  Dtype  \n",
      "---  ------                                 --------------  -----  \n",
      " 0   id_atividade                           29338 non-null  int64  \n",
      " 1   tipo_atividade                         29338 non-null  object \n",
      " 2   titulo                                 29338 non-null  object \n",
      " 3   ano_projeto                            29338 non-null  int64  \n",
      " 4   data_inicio                            29338 non-null  object \n",
      " 5   data_fim                               29338 non-null  object \n",
      " 6   localizacao                            26697 non-null  object \n",
      " 7   municipio                              28941 non-null  object \n",
      " 8   bairro                                 12003 non-null  object \n",
      " 9   id_unidade                             29338 non-null  int64  \n",
      " 10  unidade                                29338 non-null  object \n",
      " 11  coordenador                            29338 non-null  object \n",
      " 12  area_tematica                          29338 non-null  object \n",
      " 13  area_conhecimento_cnpq                 29337 non-null  object \n",
      " 14  situacao                               29338 non-null  object \n",
      " 15  tipo_projeto                           29338 non-null  object \n",
      " 16  forma_projeto                          29338 non-null  object \n",
      " 17  numero_edital                          9588 non-null   object \n",
      " 18  edital                                 9588 non-null   object \n",
      " 19  bolsas_edital                          9588 non-null   float64\n",
      " 20  bolsas_solicitadas                     29338 non-null  int64  \n",
      " 21  bolsas_concedidas                      29338 non-null  int64  \n",
      " 22  publico_interno                        29337 non-null  float64\n",
      " 23  publico_alvo_interno                   27991 non-null  object \n",
      " 24  publico_externo                        27285 non-null  float64\n",
      " 25  publico_alvo_externo                   21614 non-null  object \n",
      " 26  quantidade_discentes                   29337 non-null  float64\n",
      " 27  objetivos_desenvolvimento_sustentavel  2547 non-null   object \n",
      "dtypes: float64(4), int64(5), object(19)\n",
      "memory usage: 4.1+ MB\n"
     ]
    }
   ],
   "source": [
    "dadosX.info()"
   ]
  }
 ],
 "metadata": {
  "kernelspec": {
   "display_name": "Python 3",
   "language": "python",
   "name": "python3"
  },
  "language_info": {
   "codemirror_mode": {
    "name": "ipython",
    "version": 3
   },
   "file_extension": ".py",
   "mimetype": "text/x-python",
   "name": "python",
   "nbconvert_exporter": "python",
   "pygments_lexer": "ipython3",
   "version": "3.8.5"
  }
 },
 "nbformat": 4,
 "nbformat_minor": 4
}
